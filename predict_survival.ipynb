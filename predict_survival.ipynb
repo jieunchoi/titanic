{
 "cells": [
  {
   "cell_type": "code",
   "execution_count": 1,
   "metadata": {},
   "outputs": [],
   "source": [
    "%matplotlib inline\n",
    "import pandas as pd\n",
    "import numpy as np\n",
    "import seaborn as sns\n",
    "\n",
    "from sklearn import linear_model\n",
    "from sklearn import svm\n",
    "from sklearn import tree\n",
    "from sklearn import ensemble\n",
    "from sklearn import naive_bayes\n",
    "from sklearn import preprocessing\n",
    "from sklearn import utils\n",
    "from sklearn import model_selection\n",
    "from sklearn import metrics\n",
    "from sklearn import impute   \n",
    "\n",
    "import matplotlib.pyplot as plt\n",
    "sns.set_context('notebook')"
   ]
  },
  {
   "cell_type": "markdown",
   "metadata": {},
   "source": [
    "# Titanic Dataset\n",
    "Goal: predict whether or not a passenger survived on the Titanic based on variables such as their age, class, sex, port of origin, accompanying travelers, etc."
   ]
  },
  {
   "cell_type": "markdown",
   "metadata": {},
   "source": [
    "## Read in and prepare the data."
   ]
  },
  {
   "cell_type": "code",
   "execution_count": 2,
   "metadata": {},
   "outputs": [
    {
     "data": {
      "text/html": [
       "<div>\n",
       "<style scoped>\n",
       "    .dataframe tbody tr th:only-of-type {\n",
       "        vertical-align: middle;\n",
       "    }\n",
       "\n",
       "    .dataframe tbody tr th {\n",
       "        vertical-align: top;\n",
       "    }\n",
       "\n",
       "    .dataframe thead th {\n",
       "        text-align: right;\n",
       "    }\n",
       "</style>\n",
       "<table border=\"1\" class=\"dataframe\">\n",
       "  <thead>\n",
       "    <tr style=\"text-align: right;\">\n",
       "      <th></th>\n",
       "      <th>SURVIVED</th>\n",
       "      <th>PCLASS</th>\n",
       "      <th>NAME</th>\n",
       "      <th>SEX</th>\n",
       "      <th>AGE</th>\n",
       "      <th>SIBSP</th>\n",
       "      <th>PARCH</th>\n",
       "      <th>TICKET</th>\n",
       "      <th>FARE</th>\n",
       "      <th>CABIN</th>\n",
       "      <th>EMBARKED</th>\n",
       "    </tr>\n",
       "    <tr>\n",
       "      <th>PassengerId</th>\n",
       "      <th></th>\n",
       "      <th></th>\n",
       "      <th></th>\n",
       "      <th></th>\n",
       "      <th></th>\n",
       "      <th></th>\n",
       "      <th></th>\n",
       "      <th></th>\n",
       "      <th></th>\n",
       "      <th></th>\n",
       "      <th></th>\n",
       "    </tr>\n",
       "  </thead>\n",
       "  <tbody>\n",
       "    <tr>\n",
       "      <th>1</th>\n",
       "      <td>0</td>\n",
       "      <td>3</td>\n",
       "      <td>Braund, Mr. Owen Harris</td>\n",
       "      <td>male</td>\n",
       "      <td>22.0</td>\n",
       "      <td>1</td>\n",
       "      <td>0</td>\n",
       "      <td>A/5 21171</td>\n",
       "      <td>7.2500</td>\n",
       "      <td>NaN</td>\n",
       "      <td>S</td>\n",
       "    </tr>\n",
       "    <tr>\n",
       "      <th>2</th>\n",
       "      <td>1</td>\n",
       "      <td>1</td>\n",
       "      <td>Cumings, Mrs. John Bradley (Florence Briggs Th...</td>\n",
       "      <td>female</td>\n",
       "      <td>38.0</td>\n",
       "      <td>1</td>\n",
       "      <td>0</td>\n",
       "      <td>PC 17599</td>\n",
       "      <td>71.2833</td>\n",
       "      <td>C85</td>\n",
       "      <td>C</td>\n",
       "    </tr>\n",
       "    <tr>\n",
       "      <th>3</th>\n",
       "      <td>1</td>\n",
       "      <td>3</td>\n",
       "      <td>Heikkinen, Miss. Laina</td>\n",
       "      <td>female</td>\n",
       "      <td>26.0</td>\n",
       "      <td>0</td>\n",
       "      <td>0</td>\n",
       "      <td>STON/O2. 3101282</td>\n",
       "      <td>7.9250</td>\n",
       "      <td>NaN</td>\n",
       "      <td>S</td>\n",
       "    </tr>\n",
       "    <tr>\n",
       "      <th>4</th>\n",
       "      <td>1</td>\n",
       "      <td>1</td>\n",
       "      <td>Futrelle, Mrs. Jacques Heath (Lily May Peel)</td>\n",
       "      <td>female</td>\n",
       "      <td>35.0</td>\n",
       "      <td>1</td>\n",
       "      <td>0</td>\n",
       "      <td>113803</td>\n",
       "      <td>53.1000</td>\n",
       "      <td>C123</td>\n",
       "      <td>S</td>\n",
       "    </tr>\n",
       "    <tr>\n",
       "      <th>5</th>\n",
       "      <td>0</td>\n",
       "      <td>3</td>\n",
       "      <td>Allen, Mr. William Henry</td>\n",
       "      <td>male</td>\n",
       "      <td>35.0</td>\n",
       "      <td>0</td>\n",
       "      <td>0</td>\n",
       "      <td>373450</td>\n",
       "      <td>8.0500</td>\n",
       "      <td>NaN</td>\n",
       "      <td>S</td>\n",
       "    </tr>\n",
       "  </tbody>\n",
       "</table>\n",
       "</div>"
      ],
      "text/plain": [
       "             SURVIVED  PCLASS  \\\n",
       "PassengerId                     \n",
       "1                   0       3   \n",
       "2                   1       1   \n",
       "3                   1       3   \n",
       "4                   1       1   \n",
       "5                   0       3   \n",
       "\n",
       "                                                          NAME     SEX   AGE  \\\n",
       "PassengerId                                                                    \n",
       "1                                      Braund, Mr. Owen Harris    male  22.0   \n",
       "2            Cumings, Mrs. John Bradley (Florence Briggs Th...  female  38.0   \n",
       "3                                       Heikkinen, Miss. Laina  female  26.0   \n",
       "4                 Futrelle, Mrs. Jacques Heath (Lily May Peel)  female  35.0   \n",
       "5                                     Allen, Mr. William Henry    male  35.0   \n",
       "\n",
       "             SIBSP  PARCH            TICKET     FARE CABIN EMBARKED  \n",
       "PassengerId                                                          \n",
       "1                1      0         A/5 21171   7.2500   NaN        S  \n",
       "2                1      0          PC 17599  71.2833   C85        C  \n",
       "3                0      0  STON/O2. 3101282   7.9250   NaN        S  \n",
       "4                1      0            113803  53.1000  C123        S  \n",
       "5                0      0            373450   8.0500   NaN        S  "
      ]
     },
     "metadata": {},
     "output_type": "display_data"
    },
    {
     "data": {
      "text/html": [
       "<div>\n",
       "<style scoped>\n",
       "    .dataframe tbody tr th:only-of-type {\n",
       "        vertical-align: middle;\n",
       "    }\n",
       "\n",
       "    .dataframe tbody tr th {\n",
       "        vertical-align: top;\n",
       "    }\n",
       "\n",
       "    .dataframe thead th {\n",
       "        text-align: right;\n",
       "    }\n",
       "</style>\n",
       "<table border=\"1\" class=\"dataframe\">\n",
       "  <thead>\n",
       "    <tr style=\"text-align: right;\">\n",
       "      <th></th>\n",
       "      <th>SURVIVED</th>\n",
       "      <th>PCLASS</th>\n",
       "      <th>AGE</th>\n",
       "      <th>SIBSP</th>\n",
       "      <th>PARCH</th>\n",
       "      <th>FARE</th>\n",
       "    </tr>\n",
       "  </thead>\n",
       "  <tbody>\n",
       "    <tr>\n",
       "      <th>count</th>\n",
       "      <td>891.000000</td>\n",
       "      <td>891.000000</td>\n",
       "      <td>714.000000</td>\n",
       "      <td>891.000000</td>\n",
       "      <td>891.000000</td>\n",
       "      <td>891.000000</td>\n",
       "    </tr>\n",
       "    <tr>\n",
       "      <th>mean</th>\n",
       "      <td>0.383838</td>\n",
       "      <td>2.308642</td>\n",
       "      <td>29.699118</td>\n",
       "      <td>0.523008</td>\n",
       "      <td>0.381594</td>\n",
       "      <td>32.204208</td>\n",
       "    </tr>\n",
       "    <tr>\n",
       "      <th>std</th>\n",
       "      <td>0.486592</td>\n",
       "      <td>0.836071</td>\n",
       "      <td>14.526497</td>\n",
       "      <td>1.102743</td>\n",
       "      <td>0.806057</td>\n",
       "      <td>49.693429</td>\n",
       "    </tr>\n",
       "    <tr>\n",
       "      <th>min</th>\n",
       "      <td>0.000000</td>\n",
       "      <td>1.000000</td>\n",
       "      <td>0.420000</td>\n",
       "      <td>0.000000</td>\n",
       "      <td>0.000000</td>\n",
       "      <td>0.000000</td>\n",
       "    </tr>\n",
       "    <tr>\n",
       "      <th>25%</th>\n",
       "      <td>0.000000</td>\n",
       "      <td>2.000000</td>\n",
       "      <td>20.125000</td>\n",
       "      <td>0.000000</td>\n",
       "      <td>0.000000</td>\n",
       "      <td>7.910400</td>\n",
       "    </tr>\n",
       "    <tr>\n",
       "      <th>50%</th>\n",
       "      <td>0.000000</td>\n",
       "      <td>3.000000</td>\n",
       "      <td>28.000000</td>\n",
       "      <td>0.000000</td>\n",
       "      <td>0.000000</td>\n",
       "      <td>14.454200</td>\n",
       "    </tr>\n",
       "    <tr>\n",
       "      <th>75%</th>\n",
       "      <td>1.000000</td>\n",
       "      <td>3.000000</td>\n",
       "      <td>38.000000</td>\n",
       "      <td>1.000000</td>\n",
       "      <td>0.000000</td>\n",
       "      <td>31.000000</td>\n",
       "    </tr>\n",
       "    <tr>\n",
       "      <th>max</th>\n",
       "      <td>1.000000</td>\n",
       "      <td>3.000000</td>\n",
       "      <td>80.000000</td>\n",
       "      <td>8.000000</td>\n",
       "      <td>6.000000</td>\n",
       "      <td>512.329200</td>\n",
       "    </tr>\n",
       "  </tbody>\n",
       "</table>\n",
       "</div>"
      ],
      "text/plain": [
       "         SURVIVED      PCLASS         AGE       SIBSP       PARCH        FARE\n",
       "count  891.000000  891.000000  714.000000  891.000000  891.000000  891.000000\n",
       "mean     0.383838    2.308642   29.699118    0.523008    0.381594   32.204208\n",
       "std      0.486592    0.836071   14.526497    1.102743    0.806057   49.693429\n",
       "min      0.000000    1.000000    0.420000    0.000000    0.000000    0.000000\n",
       "25%      0.000000    2.000000   20.125000    0.000000    0.000000    7.910400\n",
       "50%      0.000000    3.000000   28.000000    0.000000    0.000000   14.454200\n",
       "75%      1.000000    3.000000   38.000000    1.000000    0.000000   31.000000\n",
       "max      1.000000    3.000000   80.000000    8.000000    6.000000  512.329200"
      ]
     },
     "metadata": {},
     "output_type": "display_data"
    }
   ],
   "source": [
    "df_train_0 = pd.read_csv('data/train.csv', index_col=0)\n",
    "df_train_0.columns = map(str.upper, df_train_0.columns)\n",
    "display(df_train_0.head())\n",
    "display(df_train_0.describe())\n",
    "\n",
    "df_test_0 = pd.read_csv('data/test.csv', index_col=0)\n",
    "df_test_0.columns = map(str.upper, df_test_0.columns)"
   ]
  },
  {
   "cell_type": "markdown",
   "metadata": {},
   "source": [
    "Let's verify that this is a balanced classification problem."
   ]
  },
  {
   "cell_type": "code",
   "execution_count": 3,
   "metadata": {},
   "outputs": [
    {
     "name": "stdout",
     "output_type": "stream",
     "text": [
      "0    0.616162\n",
      "1    0.383838\n",
      "Name: SURVIVED, dtype: float64\n"
     ]
    },
    {
     "data": {
      "text/plain": [
       "<matplotlib.axes._subplots.AxesSubplot at 0x1a2207fef0>"
      ]
     },
     "execution_count": 3,
     "metadata": {},
     "output_type": "execute_result"
    },
    {
     "data": {
      "image/png": "[encoded data removed]",
      "text/plain": [
       "<Figure size 432x288 with 1 Axes>"
      ]
     },
     "metadata": {
      "needs_background": "light"
     },
     "output_type": "display_data"
    }
   ],
   "source": [
    "print(df_train_0['SURVIVED'].value_counts(normalize=True))\n",
    "sns.countplot(x='SURVIVED', data=df_train_0)"
   ]
  },
  {
   "cell_type": "markdown",
   "metadata": {},
   "source": [
    "Next, let's check for missing data and see how many rows are affected."
   ]
  },
  {
   "cell_type": "code",
   "execution_count": 4,
   "metadata": {},
   "outputs": [
    {
     "data": {
      "text/plain": [
       "SURVIVED      0\n",
       "PCLASS        0\n",
       "NAME          0\n",
       "SEX           0\n",
       "AGE         177\n",
       "SIBSP         0\n",
       "PARCH         0\n",
       "TICKET        0\n",
       "FARE          0\n",
       "CABIN       687\n",
       "EMBARKED      2\n",
       "dtype: int64"
      ]
     },
     "execution_count": 4,
     "metadata": {},
     "output_type": "execute_result"
    }
   ],
   "source": [
    "df_train_0.isnull().sum()"
   ]
  },
  {
   "cell_type": "markdown",
   "metadata": {},
   "source": [
    "Here, we define a new data frame by excluding columns like name and ticket and recode sex and port of origin. \n",
    "\n",
    "We could use the first letter in the cabin column (the alphabet corresponding to the deck level), as passengers located on the lower decks were lower-class passengers and possibly less likely to have survived, but too many rows in this column are missing. Let's drop the cabin column since this information is probably redundantly encoded in the class column (i.e., correlated). \n",
    "\n",
    "Although 177 rows are missing the age information, we don't want to simply drop this column because we think that age is an important discriminating feature (based on what we know&mdash;\"women and children first\"&mdash;thanks to James Cameron's 1997 movie *Titanic*) that is not necessarily redundant with other columns. The simplest way to deal with the missing age column is to drop the corresponding rows, but 1. this would get rid of 177 data points, which is a lot, and 2. this may introduce undesirable bias in our results (maybe more 3rd class or younger passengers failed to report their ages). Let us instead impute, or fill in, the data using either the mean or median strategy."
   ]
  },
  {
   "cell_type": "code",
   "execution_count": 5,
   "metadata": {
    "scrolled": false
   },
   "outputs": [
    {
     "name": "stdout",
     "output_type": "stream",
     "text": [
      "['female' 'male']\n",
      "['female' 'male']\n"
     ]
    },
    {
     "data": {
      "text/html": [
       "<div>\n",
       "<style scoped>\n",
       "    .dataframe tbody tr th:only-of-type {\n",
       "        vertical-align: middle;\n",
       "    }\n",
       "\n",
       "    .dataframe tbody tr th {\n",
       "        vertical-align: top;\n",
       "    }\n",
       "\n",
       "    .dataframe thead th {\n",
       "        text-align: right;\n",
       "    }\n",
       "</style>\n",
       "<table border=\"1\" class=\"dataframe\">\n",
       "  <thead>\n",
       "    <tr style=\"text-align: right;\">\n",
       "      <th></th>\n",
       "      <th>SURVIVED</th>\n",
       "      <th>PCLASS</th>\n",
       "      <th>SEX</th>\n",
       "      <th>AGE</th>\n",
       "      <th>SIBSP</th>\n",
       "      <th>PARCH</th>\n",
       "      <th>FARE</th>\n",
       "      <th>EMBARKEDC</th>\n",
       "      <th>EMBARKEDQ</th>\n",
       "      <th>EMBARKEDS</th>\n",
       "    </tr>\n",
       "    <tr>\n",
       "      <th>PassengerId</th>\n",
       "      <th></th>\n",
       "      <th></th>\n",
       "      <th></th>\n",
       "      <th></th>\n",
       "      <th></th>\n",
       "      <th></th>\n",
       "      <th></th>\n",
       "      <th></th>\n",
       "      <th></th>\n",
       "      <th></th>\n",
       "    </tr>\n",
       "  </thead>\n",
       "  <tbody>\n",
       "    <tr>\n",
       "      <th>1</th>\n",
       "      <td>0.0</td>\n",
       "      <td>3.0</td>\n",
       "      <td>1.0</td>\n",
       "      <td>22.0</td>\n",
       "      <td>1.0</td>\n",
       "      <td>0.0</td>\n",
       "      <td>7.2500</td>\n",
       "      <td>0.0</td>\n",
       "      <td>0.0</td>\n",
       "      <td>1.0</td>\n",
       "    </tr>\n",
       "    <tr>\n",
       "      <th>2</th>\n",
       "      <td>1.0</td>\n",
       "      <td>1.0</td>\n",
       "      <td>0.0</td>\n",
       "      <td>38.0</td>\n",
       "      <td>1.0</td>\n",
       "      <td>0.0</td>\n",
       "      <td>71.2833</td>\n",
       "      <td>1.0</td>\n",
       "      <td>0.0</td>\n",
       "      <td>0.0</td>\n",
       "    </tr>\n",
       "    <tr>\n",
       "      <th>3</th>\n",
       "      <td>1.0</td>\n",
       "      <td>3.0</td>\n",
       "      <td>0.0</td>\n",
       "      <td>26.0</td>\n",
       "      <td>0.0</td>\n",
       "      <td>0.0</td>\n",
       "      <td>7.9250</td>\n",
       "      <td>0.0</td>\n",
       "      <td>0.0</td>\n",
       "      <td>1.0</td>\n",
       "    </tr>\n",
       "    <tr>\n",
       "      <th>4</th>\n",
       "      <td>1.0</td>\n",
       "      <td>1.0</td>\n",
       "      <td>0.0</td>\n",
       "      <td>35.0</td>\n",
       "      <td>1.0</td>\n",
       "      <td>0.0</td>\n",
       "      <td>53.1000</td>\n",
       "      <td>0.0</td>\n",
       "      <td>0.0</td>\n",
       "      <td>1.0</td>\n",
       "    </tr>\n",
       "    <tr>\n",
       "      <th>5</th>\n",
       "      <td>0.0</td>\n",
       "      <td>3.0</td>\n",
       "      <td>1.0</td>\n",
       "      <td>35.0</td>\n",
       "      <td>0.0</td>\n",
       "      <td>0.0</td>\n",
       "      <td>8.0500</td>\n",
       "      <td>0.0</td>\n",
       "      <td>0.0</td>\n",
       "      <td>1.0</td>\n",
       "    </tr>\n",
       "  </tbody>\n",
       "</table>\n",
       "</div>"
      ],
      "text/plain": [
       "             SURVIVED  PCLASS  SEX   AGE  SIBSP  PARCH     FARE  EMBARKEDC  \\\n",
       "PassengerId                                                                  \n",
       "1                 0.0     3.0  1.0  22.0    1.0    0.0   7.2500        0.0   \n",
       "2                 1.0     1.0  0.0  38.0    1.0    0.0  71.2833        1.0   \n",
       "3                 1.0     3.0  0.0  26.0    0.0    0.0   7.9250        0.0   \n",
       "4                 1.0     1.0  0.0  35.0    1.0    0.0  53.1000        0.0   \n",
       "5                 0.0     3.0  1.0  35.0    0.0    0.0   8.0500        0.0   \n",
       "\n",
       "             EMBARKEDQ  EMBARKEDS  \n",
       "PassengerId                        \n",
       "1                  0.0        1.0  \n",
       "2                  0.0        0.0  \n",
       "3                  0.0        1.0  \n",
       "4                  0.0        1.0  \n",
       "5                  0.0        1.0  "
      ]
     },
     "metadata": {},
     "output_type": "display_data"
    }
   ],
   "source": [
    "def modify_df(df_0, missing_data='drop', impute_strategy='mean'):\n",
    "    df = df_0.copy()\n",
    "        \n",
    "#    #only keep the alphabetical prefix for the cabin information\n",
    "#    df.loc[:,'DECK'] = df.CABIN.astype(str).apply(lambda x: x[0])\n",
    "    \n",
    "    #transform sex, deck, and port of origin information to numerical values\n",
    "    le = preprocessing.LabelEncoder()\n",
    "    df['SEX'] = le.fit_transform(df['SEX'])\n",
    "    print(le.classes_)\n",
    "    df = pd.concat([df, pd.get_dummies(df['EMBARKED'], prefix_sep='', prefix='EMBARKED')], axis=1)    \n",
    "\n",
    "    #drop the columns we don't need. name and ticket aren't useful features\n",
    "    df = df.drop(columns=['CABIN', 'NAME', 'TICKET', 'EMBARKED'])\n",
    "\n",
    "    #options for handling the missing data\n",
    "    #remove the nan rows\n",
    "    if missing_data == 'drop':\n",
    "        df = df.dropna(axis=0)\n",
    "    #fill in using the mean values\n",
    "    elif missing_data == 'impute':\n",
    "        imp = impute.SimpleImputer(missing_values=np.nan, copy=True, strategy=impute_strategy)\n",
    "        imputed_df = pd.DataFrame(imp.fit_transform(df))\n",
    "        imputed_df.columns = df.columns\n",
    "        imputed_df.index = df.index\n",
    "        df = imputed_df\n",
    "        \n",
    "    return df\n",
    "\n",
    "df_train = modify_df(df_train_0, missing_data='impute')\n",
    "df_test = modify_df(df_test_0, missing_data='impute')\n",
    "display(df_train.head())"
   ]
  },
  {
   "cell_type": "markdown",
   "metadata": {},
   "source": [
    "Here, we see that SURVIVED = 0 is associated with a larger value of SEX, which is consistent with what we know: men were less likely to survive than women (M/F encoded to 1/0). Similarly, SURVIVED = 0 is associated with lower passenger fare."
   ]
  },
  {
   "cell_type": "code",
   "execution_count": 6,
   "metadata": {},
   "outputs": [
    {
     "name": "stdout",
     "output_type": "stream",
     "text": [
      "SURVIVED     float64\n",
      "PCLASS       float64\n",
      "SEX          float64\n",
      "AGE          float64\n",
      "SIBSP        float64\n",
      "PARCH        float64\n",
      "FARE         float64\n",
      "EMBARKEDC    float64\n",
      "EMBARKEDQ    float64\n",
      "EMBARKEDS    float64\n",
      "dtype: object\n",
      "********************************************************************************\n",
      "            PCLASS       SEX        AGE     SIBSP     PARCH       FARE  \\\n",
      "SURVIVED                                                                 \n",
      "0.0       2.531876  0.852459  30.415100  0.553734  0.329690  22.117887   \n",
      "1.0       1.950292  0.318713  28.549778  0.473684  0.464912  48.395408   \n",
      "\n",
      "          EMBARKEDC  EMBARKEDQ  EMBARKEDS  \n",
      "SURVIVED                                   \n",
      "0.0        0.136612   0.085610   0.777778  \n",
      "1.0        0.271930   0.087719   0.634503  \n"
     ]
    }
   ],
   "source": [
    "print(df_train.dtypes)\n",
    "print('*'*80)\n",
    "print(df_train.groupby('SURVIVED').mean())"
   ]
  },
  {
   "cell_type": "markdown",
   "metadata": {},
   "source": [
    "Let us inspect the relationship between the variables."
   ]
  },
  {
   "cell_type": "code",
   "execution_count": 7,
   "metadata": {
    "scrolled": false
   },
   "outputs": [
    {
     "data": {
      "image/png": "[encoded data removed]",
      "text/plain": [
       "<Figure size 1080x1080 with 2 Axes>"
      ]
     },
     "metadata": {
      "needs_background": "light"
     },
     "output_type": "display_data"
    }
   ],
   "source": [
    "plt.figure(figsize=(15,15))\n",
    "s = sns.heatmap(df_train.corr(), annot=True)\n",
    "dummy = s.set_yticklabels(s.get_yticklabels(), rotation=0)"
   ]
  },
  {
   "cell_type": "markdown",
   "metadata": {},
   "source": [
    "Before we move on to predicting the labels, first we need to standardize the data and use the same transformation for the test set as well."
   ]
  },
  {
   "cell_type": "code",
   "execution_count": 8,
   "metadata": {
    "scrolled": false
   },
   "outputs": [],
   "source": [
    "scaler = preprocessing.StandardScaler().fit(df_train[['AGE', 'FARE']])\n",
    "df_train_std = df_train.copy()\n",
    "df_train_std[['AGE', 'FARE']] = scaler.transform(df_train[['AGE', 'FARE']])\n",
    "df_train_std.head()\n",
    "\n",
    "df_test_std = df_test.copy()\n",
    "df_test_std[['AGE', 'FARE']] = scaler.transform(df_test[['AGE', 'FARE']])"
   ]
  },
  {
   "cell_type": "markdown",
   "metadata": {},
   "source": [
    "Give the features and the labels simple names."
   ]
  },
  {
   "cell_type": "code",
   "execution_count": 9,
   "metadata": {
    "scrolled": false
   },
   "outputs": [
    {
     "data": {
      "text/html": [
       "<div>\n",
       "<style scoped>\n",
       "    .dataframe tbody tr th:only-of-type {\n",
       "        vertical-align: middle;\n",
       "    }\n",
       "\n",
       "    .dataframe tbody tr th {\n",
       "        vertical-align: top;\n",
       "    }\n",
       "\n",
       "    .dataframe thead th {\n",
       "        text-align: right;\n",
       "    }\n",
       "</style>\n",
       "<table border=\"1\" class=\"dataframe\">\n",
       "  <thead>\n",
       "    <tr style=\"text-align: right;\">\n",
       "      <th></th>\n",
       "      <th>PCLASS</th>\n",
       "      <th>SEX</th>\n",
       "      <th>AGE</th>\n",
       "      <th>SIBSP</th>\n",
       "      <th>PARCH</th>\n",
       "      <th>FARE</th>\n",
       "      <th>EMBARKEDC</th>\n",
       "      <th>EMBARKEDQ</th>\n",
       "      <th>EMBARKEDS</th>\n",
       "    </tr>\n",
       "    <tr>\n",
       "      <th>PassengerId</th>\n",
       "      <th></th>\n",
       "      <th></th>\n",
       "      <th></th>\n",
       "      <th></th>\n",
       "      <th></th>\n",
       "      <th></th>\n",
       "      <th></th>\n",
       "      <th></th>\n",
       "      <th></th>\n",
       "    </tr>\n",
       "  </thead>\n",
       "  <tbody>\n",
       "    <tr>\n",
       "      <th>892</th>\n",
       "      <td>3.0</td>\n",
       "      <td>1.0</td>\n",
       "      <td>0.369449</td>\n",
       "      <td>0.0</td>\n",
       "      <td>0.0</td>\n",
       "      <td>-0.490783</td>\n",
       "      <td>0.0</td>\n",
       "      <td>1.0</td>\n",
       "      <td>0.0</td>\n",
       "    </tr>\n",
       "    <tr>\n",
       "      <th>893</th>\n",
       "      <td>3.0</td>\n",
       "      <td>0.0</td>\n",
       "      <td>1.331378</td>\n",
       "      <td>1.0</td>\n",
       "      <td>0.0</td>\n",
       "      <td>-0.507479</td>\n",
       "      <td>0.0</td>\n",
       "      <td>0.0</td>\n",
       "      <td>1.0</td>\n",
       "    </tr>\n",
       "    <tr>\n",
       "      <th>894</th>\n",
       "      <td>2.0</td>\n",
       "      <td>1.0</td>\n",
       "      <td>2.485693</td>\n",
       "      <td>0.0</td>\n",
       "      <td>0.0</td>\n",
       "      <td>-0.453367</td>\n",
       "      <td>0.0</td>\n",
       "      <td>1.0</td>\n",
       "      <td>0.0</td>\n",
       "    </tr>\n",
       "    <tr>\n",
       "      <th>895</th>\n",
       "      <td>3.0</td>\n",
       "      <td>1.0</td>\n",
       "      <td>-0.207709</td>\n",
       "      <td>0.0</td>\n",
       "      <td>0.0</td>\n",
       "      <td>-0.474005</td>\n",
       "      <td>0.0</td>\n",
       "      <td>0.0</td>\n",
       "      <td>1.0</td>\n",
       "    </tr>\n",
       "    <tr>\n",
       "      <th>896</th>\n",
       "      <td>3.0</td>\n",
       "      <td>0.0</td>\n",
       "      <td>-0.592481</td>\n",
       "      <td>1.0</td>\n",
       "      <td>1.0</td>\n",
       "      <td>-0.401017</td>\n",
       "      <td>0.0</td>\n",
       "      <td>0.0</td>\n",
       "      <td>1.0</td>\n",
       "    </tr>\n",
       "  </tbody>\n",
       "</table>\n",
       "</div>"
      ],
      "text/plain": [
       "             PCLASS  SEX       AGE  SIBSP  PARCH      FARE  EMBARKEDC  \\\n",
       "PassengerId                                                             \n",
       "892             3.0  1.0  0.369449    0.0    0.0 -0.490783        0.0   \n",
       "893             3.0  0.0  1.331378    1.0    0.0 -0.507479        0.0   \n",
       "894             2.0  1.0  2.485693    0.0    0.0 -0.453367        0.0   \n",
       "895             3.0  1.0 -0.207709    0.0    0.0 -0.474005        0.0   \n",
       "896             3.0  0.0 -0.592481    1.0    1.0 -0.401017        0.0   \n",
       "\n",
       "             EMBARKEDQ  EMBARKEDS  \n",
       "PassengerId                        \n",
       "892                1.0        0.0  \n",
       "893                0.0        1.0  \n",
       "894                1.0        0.0  \n",
       "895                0.0        1.0  \n",
       "896                0.0        1.0  "
      ]
     },
     "metadata": {},
     "output_type": "display_data"
    },
    {
     "data": {
      "text/html": [
       "<div>\n",
       "<style scoped>\n",
       "    .dataframe tbody tr th:only-of-type {\n",
       "        vertical-align: middle;\n",
       "    }\n",
       "\n",
       "    .dataframe tbody tr th {\n",
       "        vertical-align: top;\n",
       "    }\n",
       "\n",
       "    .dataframe thead th {\n",
       "        text-align: right;\n",
       "    }\n",
       "</style>\n",
       "<table border=\"1\" class=\"dataframe\">\n",
       "  <thead>\n",
       "    <tr style=\"text-align: right;\">\n",
       "      <th></th>\n",
       "      <th>PCLASS</th>\n",
       "      <th>SEX</th>\n",
       "      <th>AGE</th>\n",
       "      <th>SIBSP</th>\n",
       "      <th>PARCH</th>\n",
       "      <th>FARE</th>\n",
       "      <th>EMBARKEDC</th>\n",
       "      <th>EMBARKEDQ</th>\n",
       "      <th>EMBARKEDS</th>\n",
       "    </tr>\n",
       "    <tr>\n",
       "      <th>PassengerId</th>\n",
       "      <th></th>\n",
       "      <th></th>\n",
       "      <th></th>\n",
       "      <th></th>\n",
       "      <th></th>\n",
       "      <th></th>\n",
       "      <th></th>\n",
       "      <th></th>\n",
       "      <th></th>\n",
       "    </tr>\n",
       "  </thead>\n",
       "  <tbody>\n",
       "    <tr>\n",
       "      <th>1</th>\n",
       "      <td>3.0</td>\n",
       "      <td>1.0</td>\n",
       "      <td>-0.592481</td>\n",
       "      <td>1.0</td>\n",
       "      <td>0.0</td>\n",
       "      <td>-0.502445</td>\n",
       "      <td>0.0</td>\n",
       "      <td>0.0</td>\n",
       "      <td>1.0</td>\n",
       "    </tr>\n",
       "    <tr>\n",
       "      <th>2</th>\n",
       "      <td>1.0</td>\n",
       "      <td>0.0</td>\n",
       "      <td>0.638789</td>\n",
       "      <td>1.0</td>\n",
       "      <td>0.0</td>\n",
       "      <td>0.786845</td>\n",
       "      <td>1.0</td>\n",
       "      <td>0.0</td>\n",
       "      <td>0.0</td>\n",
       "    </tr>\n",
       "    <tr>\n",
       "      <th>3</th>\n",
       "      <td>3.0</td>\n",
       "      <td>0.0</td>\n",
       "      <td>-0.284663</td>\n",
       "      <td>0.0</td>\n",
       "      <td>0.0</td>\n",
       "      <td>-0.488854</td>\n",
       "      <td>0.0</td>\n",
       "      <td>0.0</td>\n",
       "      <td>1.0</td>\n",
       "    </tr>\n",
       "    <tr>\n",
       "      <th>4</th>\n",
       "      <td>1.0</td>\n",
       "      <td>0.0</td>\n",
       "      <td>0.407926</td>\n",
       "      <td>1.0</td>\n",
       "      <td>0.0</td>\n",
       "      <td>0.420730</td>\n",
       "      <td>0.0</td>\n",
       "      <td>0.0</td>\n",
       "      <td>1.0</td>\n",
       "    </tr>\n",
       "    <tr>\n",
       "      <th>5</th>\n",
       "      <td>3.0</td>\n",
       "      <td>1.0</td>\n",
       "      <td>0.407926</td>\n",
       "      <td>0.0</td>\n",
       "      <td>0.0</td>\n",
       "      <td>-0.486337</td>\n",
       "      <td>0.0</td>\n",
       "      <td>0.0</td>\n",
       "      <td>1.0</td>\n",
       "    </tr>\n",
       "  </tbody>\n",
       "</table>\n",
       "</div>"
      ],
      "text/plain": [
       "             PCLASS  SEX       AGE  SIBSP  PARCH      FARE  EMBARKEDC  \\\n",
       "PassengerId                                                             \n",
       "1               3.0  1.0 -0.592481    1.0    0.0 -0.502445        0.0   \n",
       "2               1.0  0.0  0.638789    1.0    0.0  0.786845        1.0   \n",
       "3               3.0  0.0 -0.284663    0.0    0.0 -0.488854        0.0   \n",
       "4               1.0  0.0  0.407926    1.0    0.0  0.420730        0.0   \n",
       "5               3.0  1.0  0.407926    0.0    0.0 -0.486337        0.0   \n",
       "\n",
       "             EMBARKEDQ  EMBARKEDS  \n",
       "PassengerId                        \n",
       "1                  0.0        1.0  \n",
       "2                  0.0        0.0  \n",
       "3                  0.0        1.0  \n",
       "4                  0.0        1.0  \n",
       "5                  0.0        1.0  "
      ]
     },
     "metadata": {},
     "output_type": "display_data"
    }
   ],
   "source": [
    "X_true_test = df_test_std\n",
    "display(X_true_test.head())\n",
    "\n",
    "y = df_train_std.SURVIVED.values\n",
    "X = df_train_std.drop(columns='SURVIVED')\n",
    "display(X.head())"
   ]
  },
  {
   "cell_type": "markdown",
   "metadata": {},
   "source": [
    "## Time to Train! A Simple Approach with Logistic Regression\n",
    "\n",
    "We will first tackle this using logistic regression to get some intuition and keep it simple by doing no hyperparameter tuning yet. We split the data to training and test sets, train the LR model on the former, then test the accuracy on the latter.\n",
    "\n",
    "### Training the model\n",
    "Logistic regression is linear regression at its core, but the hypothesis is the sigmoid, or the logistic function of the form\n",
    "\n",
    "\\begin{equation}\n",
    "h_{\\theta}(x) = g(\\theta^T x) = \\frac{1}{1+\\exp(-\\theta^T x)}\n",
    "\\end{equation}\n",
    "where $x$ is the feature vector and $\\theta^T$ is the transpose of the coefficients, or parameters, vector. $h_{\\theta}(x)$ represents the probability of a label given $x$, and generally, if this value is greater than 0.5, then the label is assigned."
   ]
  },
  {
   "cell_type": "code",
   "execution_count": 10,
   "metadata": {},
   "outputs": [],
   "source": [
    "#split our dataset into training and test sets\n",
    "X_train, X_test, y_train, y_test = model_selection.train_test_split(X, y, test_size=0.25)\n",
    "\n",
    "#fit a LR model\n",
    "lr_clf = linear_model.LogisticRegression(solver='lbfgs')\n",
    "lr_clf = lr_clf.fit(X_train, y_train)"
   ]
  },
  {
   "cell_type": "markdown",
   "metadata": {},
   "source": [
    "Now compute the accuracy and examine the confusion matrix using the test set that had been set aside."
   ]
  },
  {
   "cell_type": "code",
   "execution_count": 11,
   "metadata": {},
   "outputs": [
    {
     "name": "stdout",
     "output_type": "stream",
     "text": [
      "Accuracy of LR: 0.776\n"
     ]
    },
    {
     "data": {
      "text/plain": [
       "Text(0.5, 12.5, 'Predicted Survival')"
      ]
     },
     "execution_count": 11,
     "metadata": {},
     "output_type": "execute_result"
    },
    {
     "data": {
      "image/png": "[encoded data removed]",
      "text/plain": [
       "<Figure size 432x288 with 2 Axes>"
      ]
     },
     "metadata": {
      "needs_background": "light"
     },
     "output_type": "display_data"
    }
   ],
   "source": [
    "y_pred = lr_clf.predict(X_test)\n",
    "print('Accuracy of LR: {:.3f}'.format(metrics.accuracy_score(y_test, y_pred)))\n",
    "\n",
    "cm = metrics.confusion_matrix(y_test, y_pred)\n",
    "ax = sns.heatmap(cm, square=True, annot=True, fmt=\"d\")\n",
    "ax.set_ylabel('True Survival')\n",
    "ax.set_xlabel('Predicted Survival')"
   ]
  },
  {
   "cell_type": "markdown",
   "metadata": {},
   "source": [
    "### Some insights from LR\n",
    "\n",
    "The coefficient plot below confirms our guesses based on our prior knowledge, which we swear was based on *real facts* and not on (possibly) multiple viewings of a blockbuster film. \n",
    "\n",
    "Here's the takeaway: If you were male (sex = 1), lower_class (pclass = high), old (age = high), you were less likely to survive."
   ]
  },
  {
   "cell_type": "code",
   "execution_count": 12,
   "metadata": {},
   "outputs": [
    {
     "data": {
      "text/plain": [
       "Text(0, 0.5, 'Coefficients')"
      ]
     },
     "execution_count": 12,
     "metadata": {},
     "output_type": "execute_result"
    },
    {
     "data": {
      "image/png": "[encoded data removed]",
      "text/plain": [
       "<Figure size 432x288 with 1 Axes>"
      ]
     },
     "metadata": {
      "needs_background": "light"
     },
     "output_type": "display_data"
    }
   ],
   "source": [
    "coef = pd.Series(lr_clf.coef_.reshape(-1,), \\\n",
    "                 index=X.columns).sort_values()\n",
    "coef.plot(kind='bar')\n",
    "plt.ylabel('Coefficients')"
   ]
  },
  {
   "cell_type": "markdown",
   "metadata": {},
   "source": [
    "The table below shows why passengers who left from Chebourg (\"C\") were more likely to survive: more than half of the passengers who departed from Chebourg traveled in the 1st class."
   ]
  },
  {
   "cell_type": "code",
   "execution_count": 13,
   "metadata": {},
   "outputs": [
    {
     "data": {
      "text/html": [
       "<div>\n",
       "<style scoped>\n",
       "    .dataframe tbody tr th:only-of-type {\n",
       "        vertical-align: middle;\n",
       "    }\n",
       "\n",
       "    .dataframe tbody tr th {\n",
       "        vertical-align: top;\n",
       "    }\n",
       "\n",
       "    .dataframe thead th {\n",
       "        text-align: right;\n",
       "    }\n",
       "</style>\n",
       "<table border=\"1\" class=\"dataframe\">\n",
       "  <thead>\n",
       "    <tr style=\"text-align: right;\">\n",
       "      <th>PCLASS</th>\n",
       "      <th>1</th>\n",
       "      <th>2</th>\n",
       "      <th>3</th>\n",
       "    </tr>\n",
       "    <tr>\n",
       "      <th>EMBARKED</th>\n",
       "      <th></th>\n",
       "      <th></th>\n",
       "      <th></th>\n",
       "    </tr>\n",
       "  </thead>\n",
       "  <tbody>\n",
       "    <tr>\n",
       "      <th>C</th>\n",
       "      <td>0.505952</td>\n",
       "      <td>0.101190</td>\n",
       "      <td>0.392857</td>\n",
       "    </tr>\n",
       "    <tr>\n",
       "      <th>Q</th>\n",
       "      <td>0.025974</td>\n",
       "      <td>0.038961</td>\n",
       "      <td>0.935065</td>\n",
       "    </tr>\n",
       "    <tr>\n",
       "      <th>S</th>\n",
       "      <td>0.197205</td>\n",
       "      <td>0.254658</td>\n",
       "      <td>0.548137</td>\n",
       "    </tr>\n",
       "  </tbody>\n",
       "</table>\n",
       "</div>"
      ],
      "text/plain": [
       "PCLASS           1         2         3\n",
       "EMBARKED                              \n",
       "C         0.505952  0.101190  0.392857\n",
       "Q         0.025974  0.038961  0.935065\n",
       "S         0.197205  0.254658  0.548137"
      ]
     },
     "execution_count": 13,
     "metadata": {},
     "output_type": "execute_result"
    }
   ],
   "source": [
    "pd.crosstab(df_train_0.EMBARKED, df_train_0.PCLASS).apply(lambda x: x/x.sum(), axis=1)"
   ]
  },
  {
   "cell_type": "markdown",
   "metadata": {},
   "source": [
    "### Learning and Validation Curves\n",
    "\n",
    "First we plot a learning curve, which looks pretty good. Both scores converge to a value around 0.8 and the training score is greater than the CV score by just a few percent. This suggests that adding more data here is unlikely to help much."
   ]
  },
  {
   "cell_type": "code",
   "execution_count": 14,
   "metadata": {},
   "outputs": [],
   "source": [
    "train_size, train_score, valid_score = model_selection.learning_curve(lr_clf, X, y, cv=5)"
   ]
  },
  {
   "cell_type": "code",
   "execution_count": 15,
   "metadata": {},
   "outputs": [
    {
     "data": {
      "text/plain": [
       "(0.7, 1.0)"
      ]
     },
     "execution_count": 15,
     "metadata": {},
     "output_type": "execute_result"
    },
    {
     "data": {
      "image/png": "[encoded data removed]",
      "text/plain": [
       "<Figure size 432x288 with 1 Axes>"
      ]
     },
     "metadata": {
      "needs_background": "light"
     },
     "output_type": "display_data"
    }
   ],
   "source": [
    "s = sns.lineplot(train_size, np.mean(train_score, axis=1), label='Training score')\n",
    "s = sns.lineplot(train_size, np.mean(valid_score, axis=1), label='CV score')\n",
    "s.set_xlabel('No. Training Examples')\n",
    "s.set_ylabel('Score')\n",
    "s.set_ylim(0.7, 1.0)"
   ]
  },
  {
   "cell_type": "markdown",
   "metadata": {},
   "source": [
    "Here's the validation curve for the regularization parameter $C$, the inverse regularization strength such that a small $C$ corresponds to a stronger regularization (penalize large $\\theta$ values). A good value seems to be roughly between 0.01 and 0.05."
   ]
  },
  {
   "cell_type": "code",
   "execution_count": 16,
   "metadata": {},
   "outputs": [],
   "source": [
    "train_score, valid_score = model_selection.validation_curve(\\\n",
    "    linear_model.LogisticRegression(solver='newton-cg', penalty='l2', tol=1e-4), X, y, \"C\", np.logspace(-3, 0.3, 20), cv=5)"
   ]
  },
  {
   "cell_type": "code",
   "execution_count": 17,
   "metadata": {},
   "outputs": [
    {
     "data": {
      "image/png": "[encoded data removed]",
      "text/plain": [
       "<Figure size 432x288 with 1 Axes>"
      ]
     },
     "metadata": {
      "needs_background": "light"
     },
     "output_type": "display_data"
    }
   ],
   "source": [
    "s = sns.lineplot(np.logspace(-3, 0.3, 20), np.mean(train_score, axis=1), label='Training score')\n",
    "s = sns.lineplot(np.logspace(-3, 0.3, 20), np.mean(valid_score, axis=1), label='CV score')\n",
    "s.set_xlabel('C')\n",
    "s.set_ylabel('Score')\n",
    "s.set_xscale('log')"
   ]
  },
  {
   "cell_type": "markdown",
   "metadata": {},
   "source": [
    "# Hyperparameter Tuning & Picking the best model"
   ]
  },
  {
   "cell_type": "markdown",
   "metadata": {},
   "source": [
    "Here, we'll test four algorithms: Gaussian Naive Bayes, Logistic Regression, Support Vector Machine, and Random Forests and compare their accuracies. However, all of these algorithms have hyperparameters (e.g., $C$ in LR) that need to be tuned to improve their performance. To do this, we employ a nested cross-validation. We want to avoid tuning the hyperparameters and testing the performance of the estimator on the same data set. The inner CV, where we optimize the hyperparameters, can be performed using GridSearchCV/RandomSearchCV. The outer CV is used to then evaluate the performance of the tuned model."
   ]
  },
  {
   "cell_type": "markdown",
   "metadata": {},
   "source": [
    "We reviewed LR, so let's quickly review the other three.\n",
    "\n",
    "### 1. Naive Bayes\n",
    "\n",
    "Try the very simple Naive Bayes method, which is based on the well-known Bayes' theorem:\n",
    "\n",
    "\\begin{equation}\n",
    "P({\\rm L|x}) = \\frac{P({\\rm {\\bf x}|L})P({\\rm L})}{P({\\rm x})}\n",
    "\\end{equation}\n",
    "\n",
    "where ${\\bf x}$ represent a vector of features.\n",
    "\n",
    "The \"naive\" in NB refers to the assumption that the likelihoods are the products of individual probabilities, i.e., independence among the features.\n",
    "\n",
    "Given two possible labels $\\rm L_1$ and $\\rm L_2$, we can choose the best label based on the ratio \n",
    "\n",
    "\\begin{equation}\n",
    "\\frac{P({\\rm L_1|{\\bf x}})}{P({\\rm L_2|{\\bf x}})} = \\frac{P({\\rm {\\bf x}|L_1})P({\\rm L_1})}{P({\\rm {\\bf x}|L_2})P({\\rm L_2})}\n",
    "\\end{equation}\n",
    "\n",
    "which also allows for probabilistic classification.\n",
    "\n",
    "One popular approach for computing $P({\\rm {\\bf x}|L_1})$ is to assume that the likelihood of the features is Gaussian distributed. For simplicity, we will assume uniform priors (the $P({\\rm L})$ terms). There's just one hyperparameter to optimize, var_smoothing.\n",
    "\n",
    "### 2. SVC\n",
    "\n",
    "Support vector classifier (or more generally, support vector machine) is based on the idea of maximizing the margin, or the separation between the different classes.\n",
    "\n",
    "There is no built-in Linear SVC with cross validation, so let's do this explicitly. According to the documentation, the implementation is based on libsvm, and in the case of multiclass, it uses the one-vs-one scheme.\n",
    "\n",
    "Here we will tune the hyperparameters $C$ (regularization), kernel type, and gamma (kernel coefficient).\n",
    "\n",
    "### 3. Random Forests\n",
    "\n",
    "Finally, we will try random forests, which is an ensemble method based on decision trees. The advantage of the ensemble method is that it reduces overfitting by averaging over multiple estimators which may be individually overfitting the data.\n",
    "\n",
    "Ideally, first use the randomized CV search to get a rough idea for the best hyperparameter to use, then use grid search to fine-tune the values. However, grid search is very slow for RF! sklearn documentation says that the performance is slightly worse for randomized search but likely not a big issue for a held-out test set."
   ]
  },
  {
   "cell_type": "code",
   "execution_count": 18,
   "metadata": {},
   "outputs": [],
   "source": [
    "#initialize the classifiers and define the parameters (RF parameter space was roughly explored prior to this)\n",
    "nbg = naive_bayes.GaussianNB()\n",
    "nbg_params = {'var_smoothing': np.logspace(-15,-6,20)}\n",
    "\n",
    "lr = linear_model.LogisticRegression(solver='lbfgs')\n",
    "lr_params = {'C': [0.1,0.5,1.0,2.0,3.0,4.0,5.0]}\n",
    "\n",
    "svc = svm.SVC()\n",
    "svc_params = {'C': [0.1,0.5,1.0,2.0,3.0,4.0,5.0], \\\n",
    "              'kernel': ['linear','rbf'], 'gamma': [0.5,0.2,0.1,0.05,0.001,0.0001]}\n",
    "            \n",
    "rf = ensemble.RandomForestClassifier()\n",
    "rf_params = {\"n_estimators\": [130,135,140,145,150], \"max_features\": [2,4,6,8], \\\n",
    "                 \"max_depth\": [2,4,6], \"min_samples_split\": [2,5,7,10,15], \\\n",
    "                 \"min_samples_leaf\": [2,5,7]}\n",
    "\n",
    "name_list = ['NBG', 'LR', 'SVC', 'RF']\n",
    "models = {'NBG': nbg, 'LR': lr, 'SVC': svc, 'RF': rf}\n",
    "params = {'NBG': nbg_params, 'LR': lr_params, 'SVC': svc_params, 'RF': rf_params}"
   ]
  },
  {
   "cell_type": "code",
   "execution_count": 19,
   "metadata": {
    "scrolled": true
   },
   "outputs": [
    {
     "name": "stdout",
     "output_type": "stream",
     "text": [
      "****************************************\n",
      "NBG\n",
      "----------\n",
      "Accuracy of NBG: 0.772+/-0.016\n",
      "****************************************\n",
      "LR\n",
      "----------\n",
      "Accuracy of LR: 0.803+/-0.016\n",
      "****************************************\n",
      "SVC\n",
      "----------\n",
      "Accuracy of SVC: 0.816+/-0.018\n",
      "****************************************\n",
      "RF\n",
      "----------\n",
      "Accuracy of RF: 0.816+/-0.015\n"
     ]
    }
   ],
   "source": [
    "for i, n in enumerate(name_list):\n",
    "    \n",
    "    #loop through the models\n",
    "    print('*'*40)\n",
    "    print(n)\n",
    "    print('-'*10)\n",
    "\n",
    "    inner_cv = model_selection.StratifiedKFold(n_splits=5, shuffle=True, random_state=i)\n",
    "    outer_cv = model_selection.StratifiedKFold(n_splits=5, shuffle=True, random_state=i)\n",
    "\n",
    "    #increase the number of parameter combinations from default=10\n",
    "    if (n == 'RF'):\n",
    "        n_comb = 100\n",
    "    else:\n",
    "        n_comb = 1\n",
    "        n_comb = [n_comb*len(params[n][k]) for k in params[n].keys()][0]\n",
    "    \n",
    "    #this is the inner CV to optimize the hyperparameters, performed on the \"training fold\" of the outer CV\n",
    "    clf = model_selection.RandomizedSearchCV(models[n], params[n], \\\n",
    "                                       refit=True, cv=inner_cv, n_iter=n_comb, scoring='accuracy', iid=True)\n",
    "    clf = clf.fit(X, y)\n",
    "    \n",
    "    #outer CV to compute the accuracy score. \n",
    "    #this syntax passes the \"training fold\" from this 5-fold CV to RandomizedSearchCV\n",
    "    scores = model_selection.cross_val_score(clf, X, y, cv=outer_cv, scoring='accuracy')\n",
    "    acc = np.mean(scores)\n",
    "    acc_std = np.std(scores)\n",
    "    \n",
    "    print('Accuracy of '+n+': {:.3f}'.format(acc)+'+/-{:.3f}'.format(acc_std))"
   ]
  },
  {
   "cell_type": "markdown",
   "metadata": {},
   "source": [
    "## Final thoughts & Summary"
   ]
  },
  {
   "cell_type": "markdown",
   "metadata": {},
   "source": [
    "Of the four algorithms we've tested, LR, SVC, and RF performed similarly well, and only NB was noticeably inferior. Let's generate the submission file for the predictions using test.csv with the RF classifier given its marginally higher score."
   ]
  },
  {
   "cell_type": "code",
   "execution_count": 20,
   "metadata": {},
   "outputs": [
    {
     "name": "stdout",
     "output_type": "stream",
     "text": [
      "Optimized hyperparameters are:  {'n_estimators': 135, 'min_samples_split': 7, 'min_samples_leaf': 3, 'max_features': 8, 'max_depth': 8}\n"
     ]
    }
   ],
   "source": [
    "rf = ensemble.RandomForestClassifier()\n",
    "rf_params = {\"n_estimators\": [130,135,140,145], \"max_features\": [4,6,8], \\\n",
    "                 \"max_depth\": [4,6,8,10], \"min_samples_split\": [5,7,10,15], \\\n",
    "                 \"min_samples_leaf\": [3,4,5]}\n",
    "\n",
    "rf_clf = model_selection.RandomizedSearchCV(rf, rf_params, \\\n",
    "                                            refit=True, cv=5, n_iter=200, scoring='accuracy', iid=True)\n",
    "rf_clf = rf_clf.fit(X, y)\n",
    "print('Optimized hyperparameters are: ', rf_clf.best_params_)"
   ]
  },
  {
   "cell_type": "code",
   "execution_count": 21,
   "metadata": {},
   "outputs": [],
   "source": [
    "y_true_pred = pd.DataFrame({'SURVIVED': rf_clf.predict(X_true_test).astype('int')})\n",
    "\n",
    "#set the PassengerID in y_true_pred to the same one in X_true_test then concat\n",
    "y_true_pred.set_index(X_true_test.index.copy(), inplace=True)\n",
    "X_true_test_withpred = pd.concat([X_true_test, y_true_pred], axis=1)\n",
    "\n",
    "#write the prediction to a csv\n",
    "X_true_test_withpred[['SURVIVED']].to_csv('prediction.csv', mode='w')"
   ]
  },
  {
   "cell_type": "markdown",
   "metadata": {},
   "source": [
    "The goal of this exercise was to predict the survival of Titanic passengers based on features such as age, sex, and class. Various methods were employed for comparison, from something as simple as a Gaussian Naive Bayes (worst performing) to something more complex like random forests (best performing). As suspected from the outset, some of the key features for predicting survability were sex, class, and age.\n",
    "\n",
    "We utilized the nested CV approach to tune the hyperparameters for each algorithm, and we also used CV to compare across the four algorithms.\n",
    "\n",
    "Possible future work includes 1. testing more algorithms and 2. exploring additional feature engineering (deal with correlated features and test higher-order and non-linear terms)."
   ]
  }
 ],
 "metadata": {
  "kernelspec": {
   "display_name": "Python 3",
   "language": "python",
   "name": "python3"
  },
  "language_info": {
   "codemirror_mode": {
    "name": "ipython",
    "version": 3
   },
   "file_extension": ".py",
   "mimetype": "text/x-python",
   "name": "python",
   "nbconvert_exporter": "python",
   "pygments_lexer": "ipython3",
   "version": "3.6.6"
  },
  "toc": {
   "base_numbering": 1,
   "nav_menu": {},
   "number_sections": true,
   "sideBar": true,
   "skip_h1_title": false,
   "title_cell": "Table of Contents",
   "title_sidebar": "Contents",
   "toc_cell": false,
   "toc_position": {},
   "toc_section_display": true,
   "toc_window_display": false
  }
 },
 "nbformat": 4,
 "nbformat_minor": 2
}
